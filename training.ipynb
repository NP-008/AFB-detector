{
 "cells": [
  {
   "cell_type": "code",
   "execution_count": 14,
   "metadata": {},
   "outputs": [],
   "source": [
    "import numpy as np\n",
    "from keras.models import Sequential\n",
    "from keras.layers import Dense, Dropout, Activation, Flatten\n",
    "from keras.layers import Conv2D, MaxPooling2D, Lambda\n",
    "from keras.layers import Dense\n",
    "from keras.utils import np_utils\n",
    "from keras.preprocessing.image import ImageDataGenerator\n",
    "from sklearn.preprocessing import LabelEncoder\n",
    "from sklearn.cross_validation import train_test_split\n",
    "from sklearn import preprocessing\n",
    "import cv2\n",
    "import scipy\n",
    "import os\n",
    "%matplotlib inline\n",
    "import matplotlib.pyplot as plt"
   ]
  },
  {
   "cell_type": "code",
   "execution_count": 15,
   "metadata": {},
   "outputs": [],
   "source": [
    "epochs = 20\n",
    "BASE_DIR = '../'\n",
    "batch_size = 32"
   ]
  },
  {
   "cell_type": "code",
   "execution_count": 16,
   "metadata": {},
   "outputs": [],
   "source": [
    "def get_model():\n",
    "    model = Sequential()\n",
    "    model.add(Lambda(lambda x: x * 1./255., input_shape=(299, 299, 3), output_shape=(299, 299, 3)))\n",
    "    model.add(Conv2D(32, (3, 3), input_shape=(299, 299, 3)))\n",
    "    model.add(Activation('relu'))\n",
    "    model.add(MaxPooling2D(pool_size=(2, 2)))\n",
    "\n",
    "    model.add(Conv2D(32, (3, 3)))\n",
    "    model.add(Activation('relu'))\n",
    "    model.add(MaxPooling2D(pool_size=(2, 2)))\n",
    "\n",
    "    model.add(Conv2D(64, (3, 3)))\n",
    "    model.add(Activation('relu'))\n",
    "    model.add(MaxPooling2D(pool_size=(2, 2)))\n",
    "\n",
    "    model.add(Flatten())  # this converts our 3D feature maps to 1D feature vectors\n",
    "    model.add(Dense(64))\n",
    "    model.add(Activation('relu'))\n",
    "    model.add(Dropout(0.7))\n",
    "    model.add(Dense(1))\n",
    "    model.add(Activation('sigmoid'))\n",
    "\n",
    "    model.compile(loss='binary_crossentropy',\n",
    "                optimizer='rmsprop',\n",
    "                metrics=['accuracy'])\n",
    "\n",
    "    return model"
   ]
  },
  {
   "cell_type": "code",
   "execution_count": 17,
   "metadata": {
    "collapsed": true
   },
   "outputs": [
    {
     "name": "stdout",
     "output_type": "stream",
     "text": [
      "_________________________________________________________________\n",
      "Layer (type)                 Output Shape              Param #   \n",
      "=================================================================\n",
      "lambda_4 (Lambda)            (None, 299, 299, 3)       0         \n",
      "_________________________________________________________________\n",
      "conv2d_10 (Conv2D)           (None, 297, 297, 32)      896       \n",
      "_________________________________________________________________\n",
      "activation_16 (Activation)   (None, 297, 297, 32)      0         \n",
      "_________________________________________________________________\n",
      "max_pooling2d_10 (MaxPooling (None, 148, 148, 32)      0         \n",
      "_________________________________________________________________\n",
      "conv2d_11 (Conv2D)           (None, 146, 146, 32)      9248      \n",
      "_________________________________________________________________\n",
      "activation_17 (Activation)   (None, 146, 146, 32)      0         \n",
      "_________________________________________________________________\n",
      "max_pooling2d_11 (MaxPooling (None, 73, 73, 32)        0         \n",
      "_________________________________________________________________\n",
      "conv2d_12 (Conv2D)           (None, 71, 71, 64)        18496     \n",
      "_________________________________________________________________\n",
      "activation_18 (Activation)   (None, 71, 71, 64)        0         \n",
      "_________________________________________________________________\n",
      "max_pooling2d_12 (MaxPooling (None, 35, 35, 64)        0         \n",
      "_________________________________________________________________\n",
      "flatten_4 (Flatten)          (None, 78400)             0         \n",
      "_________________________________________________________________\n",
      "dense_7 (Dense)              (None, 64)                5017664   \n",
      "_________________________________________________________________\n",
      "activation_19 (Activation)   (None, 64)                0         \n",
      "_________________________________________________________________\n",
      "dropout_4 (Dropout)          (None, 64)                0         \n",
      "_________________________________________________________________\n",
      "dense_8 (Dense)              (None, 1)                 65        \n",
      "_________________________________________________________________\n",
      "activation_20 (Activation)   (None, 1)                 0         \n",
      "=================================================================\n",
      "Total params: 5,046,369\n",
      "Trainable params: 5,046,369\n",
      "Non-trainable params: 0\n",
      "_________________________________________________________________\n",
      "None\n"
     ]
    }
   ],
   "source": [
    "model = get_model()\n",
    "print(model.summary())"
   ]
  },
  {
   "cell_type": "code",
   "execution_count": 35,
   "metadata": {},
   "outputs": [],
   "source": [
    "X_train = np.load('X_train_2.npy')\n",
    "Y_train = np.load('Y_train_2.npy')\n",
    "X_test = np.load('X_test.npy')\n",
    "Y_test = np.load('y_test.npy')"
   ]
  },
  {
   "cell_type": "code",
   "execution_count": 36,
   "metadata": {},
   "outputs": [
    {
     "data": {
      "text/plain": [
       "376"
      ]
     },
     "execution_count": 36,
     "metadata": {},
     "output_type": "execute_result"
    }
   ],
   "source": [
    "len(Y_test)"
   ]
  },
  {
   "cell_type": "code",
   "execution_count": 38,
   "metadata": {},
   "outputs": [],
   "source": [
    "encoder = preprocessing.LabelEncoder()\n",
    "encoder.fit(Y_train)\n",
    "encoded_Y_train = encoder.transform(Y_train)\n",
    "encoded_Y_test = encoder.transform(Y_test)"
   ]
  },
  {
   "cell_type": "code",
   "execution_count": 25,
   "metadata": {
    "collapsed": true
   },
   "outputs": [
    {
     "name": "stdout",
     "output_type": "stream",
     "text": [
      "Train on 320 samples, validate on 80 samples\n",
      "Epoch 1/20\n",
      "320/320 [==============================] - 69s 215ms/step - loss: 1.6195 - acc: 0.5062 - val_loss: 0.9140 - val_acc: 0.0000e+00\n",
      "Epoch 2/20\n",
      "320/320 [==============================] - 57s 179ms/step - loss: 0.6277 - acc: 0.6188 - val_loss: 1.6544 - val_acc: 0.0000e+00\n",
      "Epoch 3/20\n",
      "320/320 [==============================] - 67s 210ms/step - loss: 0.6381 - acc: 0.6219 - val_loss: 1.9532 - val_acc: 0.0000e+00\n",
      "Epoch 4/20\n",
      "320/320 [==============================] - 76s 237ms/step - loss: 0.5922 - acc: 0.6406 - val_loss: 2.5796 - val_acc: 0.0000e+00\n",
      "Epoch 5/20\n",
      "320/320 [==============================] - 75s 234ms/step - loss: 0.6801 - acc: 0.5781 - val_loss: 2.2679 - val_acc: 0.0000e+00\n",
      "Epoch 6/20\n",
      "320/320 [==============================] - 77s 240ms/step - loss: 0.5715 - acc: 0.6594 - val_loss: 4.7148 - val_acc: 0.0000e+00\n",
      "Epoch 7/20\n",
      "320/320 [==============================] - 75s 233ms/step - loss: 0.5729 - acc: 0.6562 - val_loss: 2.2090 - val_acc: 0.0125\n",
      "Epoch 8/20\n",
      "320/320 [==============================] - 75s 235ms/step - loss: 0.5624 - acc: 0.7000 - val_loss: 2.4104 - val_acc: 0.0125\n",
      "Epoch 9/20\n",
      "320/320 [==============================] - 71s 221ms/step - loss: 0.5931 - acc: 0.6937 - val_loss: 3.1924 - val_acc: 0.0000e+00\n",
      "Epoch 10/20\n",
      "320/320 [==============================] - 70s 218ms/step - loss: 0.5310 - acc: 0.7156 - val_loss: 3.7174 - val_acc: 0.0000e+00\n",
      "Epoch 11/20\n",
      "320/320 [==============================] - 78s 243ms/step - loss: 0.5039 - acc: 0.7500 - val_loss: 2.2249 - val_acc: 0.1000\n",
      "Epoch 12/20\n",
      "320/320 [==============================] - 79s 248ms/step - loss: 0.4895 - acc: 0.7781 - val_loss: 2.9799 - val_acc: 0.1125\n",
      "Epoch 13/20\n",
      "320/320 [==============================] - 83s 259ms/step - loss: 0.4181 - acc: 0.8187 - val_loss: 5.5089 - val_acc: 0.0000e+00\n",
      "Epoch 14/20\n",
      "320/320 [==============================] - 82s 255ms/step - loss: 0.4257 - acc: 0.8250 - val_loss: 4.4869 - val_acc: 0.0875\n",
      "Epoch 15/20\n",
      "320/320 [==============================] - 76s 237ms/step - loss: 0.3449 - acc: 0.8656 - val_loss: 5.4554 - val_acc: 0.0625\n",
      "Epoch 16/20\n",
      "320/320 [==============================] - 79s 248ms/step - loss: 0.2982 - acc: 0.8750 - val_loss: 4.7809 - val_acc: 0.0375\n",
      "Epoch 17/20\n",
      "320/320 [==============================] - 75s 236ms/step - loss: 0.2548 - acc: 0.9062 - val_loss: 6.8699 - val_acc: 0.0500\n",
      "Epoch 18/20\n",
      "320/320 [==============================] - 74s 231ms/step - loss: 0.2380 - acc: 0.9094 - val_loss: 4.3671 - val_acc: 0.1375\n",
      "Epoch 19/20\n",
      "320/320 [==============================] - 77s 241ms/step - loss: 0.2304 - acc: 0.9281 - val_loss: 5.2846 - val_acc: 0.1375\n",
      "Epoch 20/20\n",
      "320/320 [==============================] - 78s 243ms/step - loss: 0.1719 - acc: 0.9469 - val_loss: 7.0154 - val_acc: 0.1125\n"
     ]
    }
   ],
   "source": [
    "model = get_model()\n",
    "\n",
    "# fits the model on batches\n",
    "history = model.fit(\n",
    "    X_train,\n",
    "    encoded_Y_train,\n",
    "    validation_split=0.2,\n",
    "    epochs=epochs,\n",
    "    shuffle=True,\n",
    "    batch_size=batch_size)\n",
    "\n",
    "model.save_weights('model1.h5')"
   ]
  },
  {
   "cell_type": "code",
   "execution_count": 39,
   "metadata": {},
   "outputs": [
    {
     "name": "stdout",
     "output_type": "stream",
     "text": [
      "0.6968085106382979\n"
     ]
    }
   ],
   "source": [
    "# test accuracy\n",
    "Y_pred = np.rint(model.predict(X_test))\n",
    "\n",
    "from sklearn.metrics import accuracy_score\n",
    "print(accuracy_score(encoded_Y_test, Y_pred))"
   ]
  },
  {
   "cell_type": "code",
   "execution_count": 40,
   "metadata": {},
   "outputs": [
    {
     "name": "stdout",
     "output_type": "stream",
     "text": [
      "[[245  81]\n",
      " [ 33  17]]\n"
     ]
    }
   ],
   "source": [
    "# confusion matrix\n",
    "# negative = 0 positive = 1\n",
    "from sklearn.metrics import confusion_matrix\n",
    "\n",
    "print(confusion_matrix(encoded_Y_test, Y_pred))\n",
    "#Y_pred_unencoded = np.argmax(Y_pred, axis=0)\n",
    "#Y_test_unencoded = np.argmax(Y_test, axis=0)\n",
    "#print(confusion_matrix(Y_test_unencoded, Y_pred_unencoded))"
   ]
  }
 ],
 "metadata": {
  "kernelspec": {
   "display_name": "Python 3",
   "language": "python",
   "name": "python3"
  },
  "language_info": {
   "codemirror_mode": {
    "name": "ipython",
    "version": 3
   },
   "file_extension": ".py",
   "mimetype": "text/x-python",
   "name": "python",
   "nbconvert_exporter": "python",
   "pygments_lexer": "ipython3",
   "version": "3.6.5"
  }
 },
 "nbformat": 4,
 "nbformat_minor": 2
}
