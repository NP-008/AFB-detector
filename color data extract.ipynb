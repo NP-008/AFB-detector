{
 "cells": [
  {
   "cell_type": "code",
   "execution_count": 1,
   "metadata": {},
   "outputs": [],
   "source": [
    "import numpy as np\n",
    "import cv2\n",
    "%matplotlib inline\n",
    "import matplotlib.pyplot as plt\n",
    "from PIL import Image\n",
    "import os"
   ]
  },
  {
   "cell_type": "code",
   "execution_count": 2,
   "metadata": {},
   "outputs": [
    {
     "name": "stdout",
     "output_type": "stream",
     "text": [
      "[57, 203, 176, 147, 156, 158, 137, 132, 125, 112]\n",
      "[57, 213, 185, 152, 142, 152, 131, 125, 116, 100]\n",
      "[63, 223, 199, 167, 148, 175, 162, 158, 143, 122]\n",
      "[0, 15, 12, 8, 133, 172, 174, 174, 170, 164]\n",
      "[24, 23, 29, 31, 23, 34, 49, 53, 48, 46]\n",
      "[63, 223, 199, 167, 156, 175, 162, 158, 143, 122]\n",
      "[(57, 57, 63, 0, 24, 63), (203, 213, 223, 15, 23, 223), (176, 185, 199, 12, 29, 199), (147, 152, 167, 8, 31, 167), (156, 142, 148, 133, 23, 156), (158, 152, 175, 172, 34, 175), (137, 131, 162, 174, 49, 162), (132, 125, 158, 174, 53, 158), (125, 116, 143, 170, 48, 143), (112, 100, 122, 164, 46, 122)]\n",
      "1205\n",
      "1205\n",
      "8320\n"
     ]
    }
   ],
   "source": [
    "# for positive AFB\n",
    "B_p = []\n",
    "G_p = []\n",
    "R_p = []\n",
    "H_p = []\n",
    "S_p = []\n",
    "V_p = []\n",
    "t = []\n",
    "for name in [1,2,3,4,5,6,7,8,9,10]:\n",
    "    path = 'Include/prototype_test/positive/' + str(name) + '.jpg'\n",
    "    img = cv2.imread(path)\n",
    "    img_hsv = cv2.cvtColor(img, cv2.COLOR_BGR2HSV)\n",
    "    r = 0\n",
    "    index = []\n",
    "    for row in img:\n",
    "        col = 0\n",
    "        for pixel in row:\n",
    "            t.append(pixel)\n",
    "            if pixel[0]>50:\n",
    "                if pixel[1]>50:\n",
    "                    if pixel[2]>50:\n",
    "                        B_p.append(pixel[0])\n",
    "                        G_p.append(pixel[1])\n",
    "                        R_p.append(pixel[2])\n",
    "                        aa = [r, col]\n",
    "                        index.append(aa)\n",
    "            col += 1\n",
    "        r += 1\n",
    "    \n",
    "    \"\"\"\"\n",
    "    row = 0\n",
    "    for row in img_hsv:\n",
    "        col = 0\n",
    "        for pixel in row:\n",
    "            img_index = [row, col]\n",
    "            if img_index is in index:\n",
    "                H_p.append(pixel[0])\n",
    "                S_p.append(pixel[1])\n",
    "                V_p.append(pixel[2])\n",
    "            col += 1\n",
    "        row += 1\n",
    "    \"\"\"\n",
    "        \n",
    "    for item in index:\n",
    "        row, col = item\n",
    "        pixel = img_hsv[row][col]\n",
    "        H_p.append(pixel[0])\n",
    "        S_p.append(pixel[1])\n",
    "        V_p.append(pixel[2])\n",
    "\n",
    "print(B_p[:10])\n",
    "print(G_p[:10])\n",
    "print(R_p[:10])\n",
    "print(H_p[:10])\n",
    "print(S_p[:10])\n",
    "print(V_p[:10])\n",
    "\n",
    "p = list(zip(B_p, G_p, R_p, H_p, S_p, V_p))\n",
    "print(p[:10])\n",
    "print(len(B_p))\n",
    "print(len(H_p))\n",
    "print(len(t))"
   ]
  },
  {
   "cell_type": "code",
   "execution_count": 3,
   "metadata": {},
   "outputs": [],
   "source": [
    "def show_img(img):\n",
    "    img1 = cv2.cvtColor(img,cv2.COLOR_BGR2RGB)\n",
    "    img1 = Image.fromarray(img1)\n",
    "    plt.imshow(img1)\n",
    "    plt.show()    \n",
    "def show_img1(img):\n",
    "    img = (img*64).astype(np.uint8)\n",
    "    img1 = cv2.cvtColor(img,cv2.COLOR_BGR2RGB)\n",
    "    img1 = Image.fromarray(img1)\n",
    "    plt.imshow(img1)\n",
    "    plt.show()    \n",
    "def show_img2(img):\n",
    "    img1 = cv2.cvtColor(img,cv2.COLOR_GRAY2RGB)\n",
    "    img1 = Image.fromarray(img1)  \n",
    "    plt.imshow(img1)\n",
    "    plt.show()      \n"
   ]
  },
  {
   "cell_type": "code",
   "execution_count": 4,
   "metadata": {},
   "outputs": [
    {
     "name": "stdout",
     "output_type": "stream",
     "text": [
      "(1, 1, 3)\n",
      "[]\n",
      "(1, 1, 3)\n"
     ]
    },
    {
     "data": {
      "image/png": "[encoded data removed]",
      "text/plain": [
       "<Figure size 432x288 with 1 Axes>"
      ]
     },
     "metadata": {},
     "output_type": "display_data"
    }
   ],
   "source": [
    "# range = [115,30,80] to [185,255,255]\n",
    "a = np.zeros((1,1,3),np.uint8)\n",
    "print(a.shape)\n",
    "print(a[0:0])\n",
    "a[0,0] = [40, 30, 30]\n",
    "print(a.shape)\n",
    "#ttt = cv2.cvtColor(a,cv2.COLOR_HSV2BGR)\n",
    "show_img(a)"
   ]
  },
  {
   "cell_type": "code",
   "execution_count": null,
   "metadata": {},
   "outputs": [],
   "source": [
    "any([True and True and False])\n",
    "a, b = [0, 1]\n",
    "b"
   ]
  },
  {
   "cell_type": "code",
   "execution_count": 4,
   "metadata": {},
   "outputs": [
    {
     "name": "stdout",
     "output_type": "stream",
     "text": [
      "[234, 235, 243, 246, 247, 245, 250, 247, 247, 241]\n",
      "[213, 215, 221, 224, 221, 220, 224, 224, 227, 225]\n",
      "[185, 184, 186, 188, 185, 186, 194, 198, 202, 202]\n",
      "[103, 102, 102, 101, 103, 103, 104, 104, 103, 102]\n",
      "[53, 55, 60, 60, 64, 61, 57, 51, 46, 41]\n",
      "[234, 235, 243, 246, 247, 245, 250, 247, 247, 241]\n",
      "[(234, 213, 185, 103, 53, 234), (235, 215, 184, 102, 55, 235), (243, 221, 186, 102, 60, 243), (246, 224, 188, 101, 60, 246), (247, 221, 185, 103, 64, 247), (245, 220, 186, 103, 61, 245), (250, 224, 194, 104, 57, 250), (247, 224, 198, 104, 51, 247), (247, 227, 202, 103, 46, 247), (241, 225, 202, 102, 41, 241)]\n"
     ]
    }
   ],
   "source": [
    "# for negative background (light)\n",
    "B_l, G_l, R_l, H_l, S_l, V_l = [], [], [], [], [], []\n",
    "for name in ['l1']:\n",
    "    path = 'Include/prototype_test/positive/' + name + '.jpg'\n",
    "    img = cv2.imread(path)\n",
    "    img_hsv = cv2.cvtColor(img, cv2.COLOR_BGR2HSV)\n",
    "    for row in img:\n",
    "        for pixel in row:\n",
    "            B_l.append(pixel[0])\n",
    "            G_l.append(pixel[1])\n",
    "            R_l.append(pixel[2])\n",
    "    for row in img_hsv:\n",
    "        for pixel in row:\n",
    "            H_l.append(pixel[0])\n",
    "            S_l.append(pixel[1])\n",
    "            V_l.append(pixel[2])\n",
    "\n",
    "print(B_l[:10])\n",
    "print(G_l[:10])\n",
    "print(R_l[:10])\n",
    "print(H_l[:10])\n",
    "print(S_l[:10])\n",
    "print(V_l[:10])\n",
    "\n",
    "l = list(zip(B_l, G_l, R_l, H_l, S_l, V_l))\n",
    "print(l[:10])"
   ]
  },
  {
   "cell_type": "code",
   "execution_count": 5,
   "metadata": {},
   "outputs": [
    {
     "name": "stdout",
     "output_type": "stream",
     "text": [
      "[235, 232, 237, 239, 226, 216, 205, 199, 194, 191]\n",
      "[203, 195, 186, 180, 158, 145, 133, 128, 125, 124]\n",
      "[160, 145, 124, 108, 83, 71, 69, 71, 75, 75]\n",
      "[103, 103, 103, 104, 104, 105, 106, 107, 107, 107]\n",
      "[81, 96, 122, 140, 161, 171, 169, 164, 156, 155]\n",
      "[235, 232, 237, 239, 226, 216, 205, 199, 194, 191]\n",
      "[(235, 203, 160, 103, 81, 235), (232, 195, 145, 103, 96, 232), (237, 186, 124, 103, 122, 237), (239, 180, 108, 104, 140, 239), (226, 158, 83, 104, 161, 226), (216, 145, 71, 105, 171, 216), (205, 133, 69, 106, 169, 205), (199, 128, 71, 107, 164, 199), (194, 125, 75, 107, 156, 194), (191, 124, 75, 107, 155, 191)]\n"
     ]
    }
   ],
   "source": [
    "# for negative background (dark)\n",
    "B_d, G_d, R_d, H_d, S_d, V_d = [], [], [], [], [], []\n",
    "for name in ['d1', 'd5']:\n",
    "    path = 'Include/prototype_test/positive/' + name + '.jpg'\n",
    "    img = cv2.imread(path)\n",
    "    img_hsv = cv2.cvtColor(img, cv2.COLOR_BGR2HSV)\n",
    "    for row in img:\n",
    "        for pixel in row:\n",
    "            B_d.append(pixel[0])\n",
    "            G_d.append(pixel[1])\n",
    "            R_d.append(pixel[2])\n",
    "    for row in img_hsv:\n",
    "        for pixel in row:\n",
    "            H_d.append(pixel[0])\n",
    "            S_d.append(pixel[1])\n",
    "            V_d.append(pixel[2])\n",
    "\n",
    "print(B_d[:10])\n",
    "print(G_d[:10])\n",
    "print(R_d[:10])\n",
    "print(H_d[:10])\n",
    "print(S_d[:10])\n",
    "print(V_d[:10])\n",
    "\n",
    "d = list(zip(B_d, G_d, R_d, H_d, S_d, V_d))\n",
    "print(d[:10])"
   ]
  },
  {
   "cell_type": "code",
   "execution_count": 100,
   "metadata": {
    "scrolled": true
   },
   "outputs": [
    {
     "name": "stdout",
     "output_type": "stream",
     "text": [
      "[(0, 54), (0, 74), (0, 94), (0, 114), (0, 134), (1, 154), (5, 174), (8, 194), (3, 214), (1, 234)]\n"
     ]
    },
    {
     "data": {
      "image/png": "[encoded data removed]",
      "text/plain": [
       "<Figure size 432x288 with 1 Axes>"
      ]
     },
     "metadata": {},
     "output_type": "display_data"
    },
    {
     "name": "stdout",
     "output_type": "stream",
     "text": [
      "[(0, 52), (1, 71), (2, 90), (4, 110), (8, 129), (8, 149), (6, 168), (4, 187), (1, 207), (0, 226)]\n"
     ]
    },
    {
     "data": {
      "image/png": "[encoded data removed]",
      "text/plain": [
       "<Figure size 432x288 with 1 Axes>"
      ]
     },
     "metadata": {},
     "output_type": "display_data"
    },
    {
     "name": "stdout",
     "output_type": "stream",
     "text": [
      "[(0, 21), (7, 44), (8, 67), (11, 90), (17, 113), (14, 136), (4, 159), (5, 182), (2, 205), (0, 228)]\n"
     ]
    },
    {
     "data": {
      "image/png": "[encoded data removed]",
      "text/plain": [
       "<Figure size 432x288 with 1 Axes>"
      ]
     },
     "metadata": {},
     "output_type": "display_data"
    },
    {
     "name": "stdout",
     "output_type": "stream",
     "text": [
      "[(0, 0), (0, 17), (0, 34), (0, 52), (0, 69), (6, 87), (18, 104), (0, 121), (0, 139), (0, 156)]\n"
     ]
    },
    {
     "data": {
      "image/png": "[encoded data removed]",
      "text/plain": [
       "<Figure size 432x288 with 1 Axes>"
      ]
     },
     "metadata": {},
     "output_type": "display_data"
    },
    {
     "name": "stdout",
     "output_type": "stream",
     "text": [
      "[(3, 0), (18, 22), (6, 44), (8, 66), (8, 89), (2, 111), (0, 133), (0, 156), (0, 178), (0, 200)]\n"
     ]
    },
    {
     "data": {
      "image/png": "[encoded data removed]",
      "text/plain": [
       "<Figure size 432x288 with 1 Axes>"
      ]
     },
     "metadata": {},
     "output_type": "display_data"
    },
    {
     "name": "stdout",
     "output_type": "stream",
     "text": [
      "[(0, 55), (0, 75), (0, 95), (0, 115), (0, 135), (1, 155), (5, 175), (8, 195), (3, 215), (1, 235)]\n"
     ]
    },
    {
     "data": {
      "image/png": "[encoded data removed]",
      "text/plain": [
       "<Figure size 432x288 with 1 Axes>"
      ]
     },
     "metadata": {},
     "output_type": "display_data"
    }
   ],
   "source": [
    "a = plt.hist([B_p, B_l, B_d], label = ['p', 'l', 'd'])\n",
    "plt.legend(loc = 'upper right')\n",
    "plt.title('B')\n",
    "print(overlap(a))\n",
    "plt.show(a)\n",
    "\n",
    "a = plt.hist([G_p, G_l, G_d], label = ['p', 'l', 'd'])\n",
    "plt.legend(loc = 'upper right')\n",
    "plt.title('G')\n",
    "print(overlap(a))\n",
    "plt.show(a)\n",
    "\n",
    "a = plt.hist([R_p, R_l, R_d], label = ['p', 'l', 'd'])\n",
    "plt.legend(loc = 'upper right')\n",
    "plt.title('R')\n",
    "print(overlap(a))\n",
    "plt.show(a)\n",
    "\n",
    "a = plt.hist([H_p, H_l, H_d], label = ['p', 'l', 'd'])\n",
    "plt.legend(loc = 'upper right')\n",
    "plt.title('H')\n",
    "print(overlap(a))\n",
    "plt.show(a)\n",
    "\n",
    "a = plt.hist([S_p, S_l, S_d], label = ['p', 'l', 'd'])\n",
    "plt.legend(loc = 'upper right')\n",
    "plt.title('S')\n",
    "print(overlap(a))\n",
    "plt.show(a)\n",
    "\n",
    "a = plt.hist([V_p, V_l, V_d], label = ['p', 'l', 'd'])\n",
    "plt.legend(loc = 'upper right')\n",
    "plt.title('V')\n",
    "print(overlap(a))\n",
    "plt.show(a)"
   ]
  },
  {
   "cell_type": "code",
   "execution_count": 98,
   "metadata": {},
   "outputs": [],
   "source": [
    "# stanardized plot -> find % overlapping\n",
    "# sample: a = plt.hist([B_p, B_l, B_d], label = ['p', 'l', 'd'])\n",
    "\n",
    "def overlap(a):\n",
    "    n = list(zip(list(a[0][1]), list(a[0][2])))\n",
    "    n = [l + d for l, d in n]\n",
    "    p_std = [i*(len(l)+len(d))/len(p) for i in a[0][0]]\n",
    "    a2 = list(zip(p_std, n))\n",
    "    overlap = [min(b) for b in a2]\n",
    "    overlap_percent = [int(i*100/(len(l)+len(d))) for i in overlap]\n",
    "    b = [int(b) for b in a[1]]\n",
    "    overlap_percent_and_bin = list(zip(overlap_percent, b))\n",
    "    return overlap_percent_and_bin"
   ]
  },
  {
   "cell_type": "code",
   "execution_count": null,
   "metadata": {},
   "outputs": [],
   "source": [
    "print('B : p l d')\n",
    "print(np.mean(B_p), max(B_p), min(B_p))\n",
    "print(np.mean(B_l), max(B_l), min(B_l))\n",
    "print(np.mean(B_d), max(B_d), min(B_d))\n",
    "print('----------')\n",
    "\n",
    "print('G : p l d')\n",
    "print(np.mean(G_p), max(G_p), min(G_p))\n",
    "print(np.mean(G_l), max(G_l), min(G_l))\n",
    "print(np.mean(G_d), max(G_d), min(G_d))\n",
    "print('----------')\n",
    "\n",
    "print('R : p l d')\n",
    "print(np.mean(R_p), max(R_p), min(R_p))\n",
    "print(np.mean(R_l), max(R_l), min(R_l))\n",
    "print(np.mean(R_d), max(R_d), min(R_d))\n",
    "print('----------')\n",
    "\n",
    "print('H : p l d')\n",
    "print(np.mean(H_p), max(H_p), min(H_p))\n",
    "print(np.mean(H_l), max(H_l), min(H_l))\n",
    "print(np.mean(H_d), max(H_d), min(H_d))\n",
    "print('----------')\n",
    "\n",
    "print('S : p l d')\n",
    "print(np.mean(S_p), max(S_p), min(S_p))\n",
    "print(np.mean(S_l), max(S_l), min(S_l))\n",
    "print(np.mean(S_d), max(S_d), min(S_d))\n",
    "print('----------')\n",
    "\n",
    "print('V : p l d')\n",
    "print(np.mean(V_p), max(V_p), min(V_p))\n",
    "print(np.mean(V_l), max(V_l), min(V_l))\n",
    "print(np.mean(V_d), max(V_d), min(V_d))\n",
    "print('----------')"
   ]
  },
  {
   "cell_type": "code",
   "execution_count": 74,
   "metadata": {},
   "outputs": [
    {
     "name": "stdout",
     "output_type": "stream",
     "text": [
      "1205\n",
      "2088\n",
      "6105\n",
      "9398\n"
     ]
    }
   ],
   "source": [
    "print(len(p))\n",
    "print(len(l))\n",
    "print(len(d))\n",
    "print(len(p) + len(l) + len(d))"
   ]
  },
  {
   "cell_type": "code",
   "execution_count": 7,
   "metadata": {},
   "outputs": [],
   "source": [
    "# prepare data for ROC plot\n",
    "B = []\n",
    "b = []\n",
    "G = []\n",
    "g = []\n",
    "R = []\n",
    "r = []\n",
    "H = []\n",
    "h = []\n",
    "S = []\n",
    "s = []\n",
    "V = []\n",
    "v = []\n",
    "\n",
    "for i in B_p:\n",
    "    B.append(i)\n",
    "    b.append('1')\n",
    "for i in B_l:\n",
    "    B.append(i)\n",
    "    b.append('0')\n",
    "for i in B_d:\n",
    "    B.append(i)\n",
    "    b.append('0')\n",
    "    \n",
    "for i in G_p:\n",
    "    G.append(i)\n",
    "    g.append('1')\n",
    "for i in G_l:\n",
    "    G.append(i)\n",
    "    g.append('0')\n",
    "for i in G_d:\n",
    "    G.append(i)\n",
    "    g.append('0')\n",
    "    \n",
    "for i in R_p:\n",
    "    R.append(i)\n",
    "    r.append('1')\n",
    "for i in R_l:\n",
    "    R.append(i)\n",
    "    r.append('0')\n",
    "for i in R_d:\n",
    "    R.append(i)\n",
    "    r.append('0')\n",
    "    \n",
    "for i in H_p:\n",
    "    H.append(i)\n",
    "    h.append('1')\n",
    "for i in H_l:\n",
    "    H.append(i)\n",
    "    h.append('0')\n",
    "for i in H_d:\n",
    "    H.append(i)\n",
    "    h.append('0')\n",
    "    \n",
    "for i in S_p:\n",
    "    S.append(i)\n",
    "    s.append('1')\n",
    "for i in S_l:\n",
    "    S.append(i)\n",
    "    s.append('0')\n",
    "for i in S_d:\n",
    "    S.append(i)\n",
    "    s.append('0')\n",
    "    \n",
    "for i in V_p:\n",
    "    V.append(i)\n",
    "    v.append('1')\n",
    "for i in V_l:\n",
    "    V.append(i)\n",
    "    v.append('0')\n",
    "for i in V_d:\n",
    "    V.append(i)\n",
    "    v.append('0')"
   ]
  },
  {
   "cell_type": "code",
   "execution_count": 8,
   "metadata": {
    "scrolled": true
   },
   "outputs": [
    {
     "data": {
      "image/png": "[encoded data removed]",
      "text/plain": [
       "<Figure size 432x288 with 1 Axes>"
      ]
     },
     "metadata": {},
     "output_type": "display_data"
    }
   ],
   "source": [
    "# ROC plot\n",
    "# ??? tpr <-> fpr\n",
    "from sklearn import metrics\n",
    "\n",
    "lw = 2\n",
    "b = np.array(b)\n",
    "B = np.array(B)\n",
    "g = np.array(g)\n",
    "G = np.array(G)\n",
    "R = np.array(R)\n",
    "r = np.array(r)\n",
    "H = np.array(H)\n",
    "h = np.array(h)\n",
    "S = np.array(S)\n",
    "s = np.array(s)\n",
    "V = np.array(V)\n",
    "v = np.array(v)\n",
    "fpr_B, tpr_B, thres_B = metrics.roc_curve(b, B, pos_label = '1')\n",
    "fpr_G, tpr_G, thres_G = metrics.roc_curve(g, G, pos_label = '1')\n",
    "fpr_R, tpr_R, thres_R = metrics.roc_curve(r, R, pos_label = '1')\n",
    "fpr_H, tpr_H, thres_H = metrics.roc_curve(h, H, pos_label = '1')\n",
    "fpr_S, tpr_S, thres_S = metrics.roc_curve(s, S, pos_label = '1')\n",
    "fpr_V, tpr_V, thres_V = metrics.roc_curve(v, V, pos_label = '1')\n",
    "plt.plot(fpr_B, tpr_B, color = 'blue', lw = lw, label = 'B')\n",
    "plt.plot(fpr_G, tpr_G, color = 'green', lw = lw, label = 'G')\n",
    "plt.plot(fpr_R, tpr_R, color = 'red', lw = lw, label = 'R')\n",
    "plt.plot(fpr_H, tpr_H, color = 'purple', lw = lw, label = 'H')\n",
    "plt.plot(fpr_S, tpr_S, color = 'orange', lw = lw, label = 'S')\n",
    "plt.plot(fpr_V, tpr_V, color = 'yellow', lw = lw, label = 'V')\n",
    "\n",
    "plt.plot([0,1], [0,1], color = 'black', lw = lw, linestyle = '--')\n",
    "plt.xlim([0.0, 1.0])\n",
    "plt.ylim([0.0, 1.1])\n",
    "plt.xlabel('False positive rate')\n",
    "plt.ylabel('True positive rate')\n",
    "plt.title('ROC')\n",
    "plt.legend(loc = 'lower right')\n",
    "plt.show()"
   ]
  },
  {
   "cell_type": "code",
   "execution_count": 47,
   "metadata": {},
   "outputs": [
    {
     "data": {
      "text/html": [
       "<div>\n",
       "<style scoped>\n",
       "    .dataframe tbody tr th:only-of-type {\n",
       "        vertical-align: middle;\n",
       "    }\n",
       "\n",
       "    .dataframe tbody tr th {\n",
       "        vertical-align: top;\n",
       "    }\n",
       "\n",
       "    .dataframe thead th {\n",
       "        text-align: right;\n",
       "    }\n",
       "</style>\n",
       "<table border=\"1\" class=\"dataframe\">\n",
       "  <thead>\n",
       "    <tr style=\"text-align: right;\">\n",
       "      <th></th>\n",
       "      <th>labels</th>\n",
       "      <th>B</th>\n",
       "      <th>G</th>\n",
       "      <th>R</th>\n",
       "      <th>H</th>\n",
       "      <th>S</th>\n",
       "      <th>V</th>\n",
       "    </tr>\n",
       "  </thead>\n",
       "  <tbody>\n",
       "    <tr>\n",
       "      <th>9393</th>\n",
       "      <td>n</td>\n",
       "      <td>211</td>\n",
       "      <td>153</td>\n",
       "      <td>81</td>\n",
       "      <td>103</td>\n",
       "      <td>157</td>\n",
       "      <td>211</td>\n",
       "    </tr>\n",
       "    <tr>\n",
       "      <th>9394</th>\n",
       "      <td>n</td>\n",
       "      <td>218</td>\n",
       "      <td>161</td>\n",
       "      <td>86</td>\n",
       "      <td>103</td>\n",
       "      <td>154</td>\n",
       "      <td>218</td>\n",
       "    </tr>\n",
       "    <tr>\n",
       "      <th>9395</th>\n",
       "      <td>n</td>\n",
       "      <td>216</td>\n",
       "      <td>158</td>\n",
       "      <td>86</td>\n",
       "      <td>103</td>\n",
       "      <td>153</td>\n",
       "      <td>216</td>\n",
       "    </tr>\n",
       "    <tr>\n",
       "      <th>9396</th>\n",
       "      <td>n</td>\n",
       "      <td>214</td>\n",
       "      <td>157</td>\n",
       "      <td>88</td>\n",
       "      <td>104</td>\n",
       "      <td>150</td>\n",
       "      <td>214</td>\n",
       "    </tr>\n",
       "    <tr>\n",
       "      <th>9397</th>\n",
       "      <td>n</td>\n",
       "      <td>220</td>\n",
       "      <td>162</td>\n",
       "      <td>96</td>\n",
       "      <td>104</td>\n",
       "      <td>144</td>\n",
       "      <td>220</td>\n",
       "    </tr>\n",
       "  </tbody>\n",
       "</table>\n",
       "</div>"
      ],
      "text/plain": [
       "     labels    B    G   R    H    S    V\n",
       "9393      n  211  153  81  103  157  211\n",
       "9394      n  218  161  86  103  154  218\n",
       "9395      n  216  158  86  103  153  216\n",
       "9396      n  214  157  88  104  150  214\n",
       "9397      n  220  162  96  104  144  220"
      ]
     },
     "execution_count": 47,
     "metadata": {},
     "output_type": "execute_result"
    }
   ],
   "source": [
    "# get data into panda dataframe\n",
    "import pandas as pd\n",
    "\n",
    "pp = []\n",
    "for i in p:\n",
    "    i = list(i)\n",
    "    i.insert(0, 'p')\n",
    "    pp.append(i)\n",
    "df = pd.DataFrame(pp, columns = ['labels', 'B', 'G', 'R', 'H', 'S', 'V'])\n",
    "\n",
    "ll = []\n",
    "for i in l:\n",
    "    i = list(i)\n",
    "    i.insert(0, 'n')\n",
    "    ll.append(i)\n",
    "dff = pd.DataFrame(ll, columns = ['labels', 'B', 'G', 'R', 'H', 'S', 'V'])\n",
    "df = df.append(dff)\n",
    "\n",
    "dd = []\n",
    "for i in d:\n",
    "    i = list(i)\n",
    "    i.insert(0, 'n')\n",
    "    dd.append(i)\n",
    "dff = pd.DataFrame(dd, columns = ['labels', 'B', 'G', 'R', 'H', 'S', 'V'])\n",
    "df = df.append(dff, ignore_index = True)\n",
    "df.tail()"
   ]
  },
  {
   "cell_type": "code",
   "execution_count": 59,
   "metadata": {},
   "outputs": [
    {
     "name": "stderr",
     "output_type": "stream",
     "text": [
      "C:\\Users\\Asus\\Anaconda3\\lib\\site-packages\\sklearn\\utils\\validation.py:475: DataConversionWarning: Data with input dtype int64 was converted to float64 by StandardScaler.\n",
      "  warnings.warn(msg, DataConversionWarning)\n"
     ]
    },
    {
     "data": {
      "image/png": "[encoded data removed]",
      "text/plain": [
       "<Figure size 432x288 with 1 Axes>"
      ]
     },
     "metadata": {},
     "output_type": "display_data"
    }
   ],
   "source": [
    "X = df.iloc[:, 1:].values\n",
    "Y = df.iloc[:, 0].values\n",
    "\n",
    "from sklearn.preprocessing import StandardScaler\n",
    "X_std = StandardScaler().fit_transform(X)\n",
    "\n",
    "from sklearn.decomposition import PCA\n",
    "pca = PCA(n_components = 2)\n",
    "Y_sklearn = pca.fit_transform(X_std)\n",
    "\n",
    "lw = 0.2\n",
    "for name, color in zip(['p', 'n'], ['red', 'blue']):\n",
    "                       x = Y_sklearn[Y == name, 0]\n",
    "                       y = Y_sklearn[Y == name, 1]\n",
    "                       plt.scatter(x, y, alpha = 0.8, s = 2, color = color, label = name)\n",
    "plt.xlabel('PC1')\n",
    "plt.ylabel('PC2')\n",
    "plt.title('PCA')\n",
    "plt.legend(loc = 'lower right')\n",
    "plt.show()"
   ]
  },
  {
   "cell_type": "code",
   "execution_count": null,
   "metadata": {},
   "outputs": [],
   "source": [
    "# SVM (wait for ROC and PCA)\n",
    "from matplotlib import style\n",
    "style.use('ggplot')\n",
    "\n",
    "class Support_Vector_Machine:\n",
    "    def __init__(self, visualization = True):\n",
    "        self.visualization = visualization\n",
    "        self.color = {1:'r', -1:'b'}\n",
    "        if self.visualization:\n",
    "            self.fig = plt.figure()\n",
    "            self.ax = self.fig.add_subplot(1,1,1)\n",
    "            \n",
    "    # train\n",
    "    def fit(self, data):\n",
    "        self.data = data\n",
    "        # {||W|| : [w,b]}\n",
    "        opt_dict = {}\n",
    "        transform = [[1,1], [-1,1], [1,-1], [-1,-1]]\n",
    "        # find starting value\n",
    "        all_data = []\n",
    "        for yi in self.data:\n",
    "            for featureset in self.data[yi]:\n",
    "                for feature in featureset:\n",
    "                    all_data.append(feature)\n",
    "                    \n",
    "        self.max_feature_value = max(all_data)\n",
    "        self.min_feature_value = min(all_data)\n",
    "        all_data = None\n",
    "        \n",
    "        step_sizes = [self.max_feature_value*0.1, \n",
    "                     self.max_feature_value*0.01,\n",
    "                     self.max_feature_value*0.001]\n",
    "        \n",
    "        b_range_multiple = 5\n",
    "        b_multiple = 5\n",
    "        latest_optimum = self.max_feature_value*10\n",
    "        \n",
    "        for step in step_sizes:\n",
    "            w = np.array([latest_optimum, latest_optimum])\n",
    "            optimizes = False\n",
    "            while not optimized:\n",
    "                for b in np.arange(-1*(self.max_feature_value*b_range_multiple),\n",
    "                                  self.max_feature_value*b_range_multiple,\n",
    "                                  step*b_multiple):\n",
    "                    for transformation in transforms:\n",
    "                        W_t = w*transformation\n",
    "                        found_option = True\n",
    "                        # yi(xi.w+b) >= 1\n",
    "                        for i in self.data[i]:\n",
    "                            yi = i\n",
    "                            if not yi*(np.dot(w_t, xi) + b) >= 1:\n",
    "                                found_option = False\n",
    "                                \n",
    "                        if found_option:\n",
    "                            opt_dict[np.lianalg.norm(w_t)] = [w_t, b]\n",
    "                            # opt_dict contain ||W|| : [w,b]\n",
    "                            \n",
    "                if w[0] < 0:\n",
    "                    optimized = True\n",
    "                    print('Optimized a step.')\n",
    "                else:\n",
    "                    w = w - step\n",
    "                    \n",
    "            norms = sorted([n for n in opt_dict])\n",
    "            opt_choice = opt_dict[norms[0]]\n",
    "            self.w = opt_choice[0]\n",
    "            self.b = opt_choice[1]\n",
    "            latest_optimum = opt_choice[0][0] + step*2\n",
    "                        \n",
    "        \n",
    "    def predict(self, features):\n",
    "        #sign (x.w+b)\n",
    "        classification = np.sign(np.dot(np.array(features), self.w) + self.b)\n",
    "        return classification"
   ]
  },
  {
   "cell_type": "code",
   "execution_count": null,
   "metadata": {},
   "outputs": [],
   "source": [
    "# data dictionary\n",
    "\n",
    "data_dict = {}\n",
    "\n",
    "ld = l + d\n",
    "data_dict[1] = np.array(p)\n",
    "data_dict[-1] = np.array(ld)\n",
    "print(data_dict)"
   ]
  },
  {
   "cell_type": "code",
   "execution_count": null,
   "metadata": {},
   "outputs": [],
   "source": []
  }
 ],
 "metadata": {
  "kernelspec": {
   "display_name": "Python 3",
   "language": "python",
   "name": "python3"
  },
  "language_info": {
   "codemirror_mode": {
    "name": "ipython",
    "version": 3
   },
   "file_extension": ".py",
   "mimetype": "text/x-python",
   "name": "python",
   "nbconvert_exporter": "python",
   "pygments_lexer": "ipython3",
   "version": "3.6.5"
  }
 },
 "nbformat": 4,
 "nbformat_minor": 2
}
