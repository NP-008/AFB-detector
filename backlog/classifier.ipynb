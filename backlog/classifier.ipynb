{
 "cells": [
  {
   "cell_type": "markdown",
   "metadata": {},
   "source": [
    "open image in deepzoom (DeepPATH) in cmd\n",
    "\n",
    "include/code/openslide-python/examples/deepzoom/deepzoom_server.py include/image/raw/S19005645 A1-2.svs\n",
    "\n",
    "a.svs = S19005645 A1-2.svs\n",
    "b.svs = S19009823 A1-2.svs"
   ]
  },
  {
   "cell_type": "markdown",
   "metadata": {},
   "source": [
    "tile slide to 40x 256*256\n",
    "AFB_5081A.svs\n",
    "\n",
    "python3 include/code/DeepPATH/DeepPATH_code/00_preprocessing/0b_tileLoop_deepzoom4.py -s 299 -e 0 -j 32 -B 25 -m 40 -o include/image/tile \"include/image/raw/aaa.svs\""
   ]
  },
  {
   "cell_type": "code",
   "execution_count": 1,
   "metadata": {},
   "outputs": [
    {
     "data": {
      "text/plain": [
       "'/home/napasiri/python/AFB/include/image/red.jpg'"
      ]
     },
     "execution_count": 1,
     "metadata": {},
     "output_type": "execute_result"
    }
   ],
   "source": [
    "# classify tile image into positive and negative\n",
    "import shutil, os\n",
    "path = \"/home/napasiri/python/AFB/include/image/data_extraction/red.jpg\"\n",
    "shutil.move(path, \"/home/napasiri/python/AFB/include/image\")"
   ]
  },
  {
   "cell_type": "code",
   "execution_count": 2,
   "metadata": {},
   "outputs": [],
   "source": [
    "from skimage import measure\n",
    "import cv2\n",
    "import shutil, os\n",
    "import numpy as np\n",
    "\n",
    "des_neg = \"/home/napasiri/python/AFB/include/image/negative\"\n",
    "des_pos = \"/home/napasiri/python/AFB/include/image/positive\"\n",
    "\n",
    "def classifier(img, hsv_lower_limit = [110,30,164], hsv_upper_limit = [138,54,195]):\n",
    "    img_hsv = cv2.cvtColor(img, cv2.COLOR_BGR2HSV)\n",
    "    img_mark_H = cv2.inRange(img_hsv, np.array(hsv_lower_limit), np.array(hsv_upper_limit))\n",
    "    img_dilate = cv2.dilate(img_mark_H, None, iterations = 1)\n",
    "    \n",
    "    labels = measure.label(img_dilate, neighbors=None, background=0)\n",
    "    a = 0\n",
    "    \n",
    "    for label in np.unique(labels):\n",
    "        if label==0:\n",
    "            continue\n",
    "        labelMask = np.zeros(img_mark_H.shape, dtype=\"uint8\")\n",
    "        labelMask[labels == label] = 255\n",
    "        numPix = cv2.countNonZero(labelMask)\n",
    "\n",
    "        if numPix > 5:\n",
    "            a +=1\n",
    "        else:\n",
    "            pass\n",
    "        \n",
    "    if a==0:\n",
    "        shutil.move(path, des_neg)\n",
    "    elif a>0:\n",
    "        shutil.move(path, des_pos)\n",
    "    else:\n",
    "        print(\"ERROR\")\n",
    "    "
   ]
  },
  {
   "cell_type": "code",
   "execution_count": null,
   "metadata": {},
   "outputs": [],
   "source": [
    "path_main = \"/home/napasiri/python/AFB/include/image/tile\"\n",
    "path_main_lst = os.listdir(path_main)\n",
    "for i in path_main_lst:\n",
    "    b = os.listdir(path_main + \"/\" + i)\n",
    "    path1 = path_main + \"/\" + i\n",
    "    for i in b:\n",
    "        path2 = path1 + \"/\" + i\n",
    "        c = os.listdir(path2)\n",
    "        for i in c:\n",
    "            path = path2 + \"/\" + i\n",
    "            img = cv2.imread(path)\n",
    "            classifier(img)"
   ]
  },
  {
   "cell_type": "code",
   "execution_count": null,
   "metadata": {},
   "outputs": [],
   "source": [
    "for i in os.listdir(\"/home/napasiri/python/AFB/include/image/test_img\"):\n",
    "    path_test = \"/home/napasiri/python/AFB/include/image/test_img/\" + i\n",
    "    img_test = cv2.imread(path_test)\n",
    "    classifier(img_test)\n"
   ]
  },
  {
   "cell_type": "markdown",
   "metadata": {},
   "source": [
    "coarsely separate positive and negative 64*64 tile"
   ]
  },
  {
   "cell_type": "code",
   "execution_count": 2,
   "metadata": {},
   "outputs": [],
   "source": [
    "import shutil, os\n",
    "import cv2\n",
    "import numpy as np"
   ]
  },
  {
   "cell_type": "code",
   "execution_count": 16,
   "metadata": {},
   "outputs": [],
   "source": [
    "path = '../image/tile/a_64/40.0/'\n",
    "tile_data = []\n",
    "for i in os.listdir('../image/tile/a_64/40.0/'):\n",
    "    img_data = []\n",
    "    B = []\n",
    "    G = []\n",
    "    R = []\n",
    "    img_data.append(i)\n",
    "    img = cv2.imread(path + i)\n",
    "    img = np.asarray(img)\n",
    "    for row in img:\n",
    "        for pixel in row:\n",
    "            B.append(pixel[0])\n",
    "            G.append(pixel[1])\n",
    "            R.append(pixel[2])\n",
    "    B = sum(B)/len(B)\n",
    "    G = sum(G)/len(G)\n",
    "    R = sum(R)/len(R)\n",
    "    img_data.append(B)\n",
    "    img_data.append(G)\n",
    "    img_data.append(R)\n",
    "    tile_data.append(img_data)\n",
    "\n",
    "# get tile_data = [[img_name, average B, G, R], ...]"
   ]
  },
  {
   "cell_type": "code",
   "execution_count": 17,
   "metadata": {
    "scrolled": true
   },
   "outputs": [
    {
     "data": {
      "text/plain": [
       "25661"
      ]
     },
     "execution_count": 17,
     "metadata": {},
     "output_type": "execute_result"
    }
   ],
   "source": [
    "len(tile_data)"
   ]
  },
  {
   "cell_type": "code",
   "execution_count": 18,
   "metadata": {
    "collapsed": true
   },
   "outputs": [
    {
     "name": "stdout",
     "output_type": "stream",
     "text": [
      "[['308_35.jpeg', 222.5380859375, 186.83349609375, 137.35498046875], ['73_273.jpeg', 223.72412109375, 186.28857421875, 134.13720703125], ['42_279.jpeg', 229.779052734375, 207.7724609375, 162.273193359375], ['113_304.jpeg', 227.00732421875, 200.5185546875, 156.888671875], ['214_96.jpeg', 227.269775390625, 201.08642578125, 158.3173828125], ['88_269.jpeg', 226.331298828125, 194.00732421875, 151.650390625], ['276_151.jpeg', 226.04248046875, 198.067626953125, 157.590576171875], ['131_106.jpeg', 221.54931640625, 185.822998046875, 130.715576171875], ['256_192.jpeg', 228.822998046875, 201.318115234375, 163.24462890625], ['255_148.jpeg', 225.64404296875, 195.795166015625, 148.473388671875]]\n"
     ]
    }
   ],
   "source": [
    "print(tile_data[:10])"
   ]
  },
  {
   "cell_type": "code",
   "execution_count": null,
   "metadata": {},
   "outputs": [],
   "source": [
    "for i in range(len(tile_data)):\n",
    "    if tile_data[i][R] >= "
   ]
  }
 ],
 "metadata": {
  "kernelspec": {
   "display_name": "Python 3",
   "language": "python",
   "name": "python3"
  },
  "language_info": {
   "codemirror_mode": {
    "name": "ipython",
    "version": 3
   },
   "file_extension": ".py",
   "mimetype": "text/x-python",
   "name": "python",
   "nbconvert_exporter": "python",
   "pygments_lexer": "ipython3",
   "version": "3.6.8"
  }
 },
 "nbformat": 4,
 "nbformat_minor": 2
}
