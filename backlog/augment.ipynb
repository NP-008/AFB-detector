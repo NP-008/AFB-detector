{
 "cells": [
  {
   "cell_type": "code",
   "execution_count": 1,
   "metadata": {},
   "outputs": [
    {
     "name": "stderr",
     "output_type": "stream",
     "text": [
      "C:\\Users\\Asus\\Anaconda3\\lib\\site-packages\\h5py\\__init__.py:36: FutureWarning: Conversion of the second argument of issubdtype from `float` to `np.floating` is deprecated. In future, it will be treated as `np.float64 == np.dtype(float).type`.\n",
      "  from ._conv import register_converters as _register_converters\n",
      "Using TensorFlow backend.\n",
      "C:\\Users\\Asus\\Anaconda3\\lib\\site-packages\\sklearn\\cross_validation.py:41: DeprecationWarning: This module was deprecated in version 0.18 in favor of the model_selection module into which all the refactored classes and functions are moved. Also note that the interface of the new CV iterators are different from that of this module. This module will be removed in 0.20.\n",
      "  \"This module will be removed in 0.20.\", DeprecationWarning)\n"
     ]
    }
   ],
   "source": [
    "import numpy as np\n",
    "import tensorflow as tf\n",
    "from keras.models import Sequential\n",
    "from keras.layers import Dense, Dropout, Activation, Flatten\n",
    "from keras.layers import Conv2D, MaxPooling2D, Lambda\n",
    "from keras.layers import Dense\n",
    "from keras.wrappers.scikit_learn import KerasClassifier\n",
    "from keras.utils import np_utils\n",
    "from keras.preprocessing.image import ImageDataGenerator\n",
    "from sklearn.model_selection import cross_val_score\n",
    "from sklearn.model_selection import KFold\n",
    "from sklearn.preprocessing import LabelEncoder\n",
    "from sklearn.pipeline import Pipeline\n",
    "from sklearn.cross_validation import train_test_split\n",
    "from sklearn.metrics import roc_curve, auc\n",
    "import scipy\n",
    "from PIL import Image\n",
    "import io\n",
    "import pathlib\n",
    "import os\n",
    "import cv2"
   ]
  },
  {
   "cell_type": "code",
   "execution_count": null,
   "metadata": {},
   "outputs": [],
   "source": [
    "# for unclassified img use classifier to generate X and Y array then split"
   ]
  },
  {
   "cell_type": "code",
   "execution_count": 2,
   "metadata": {},
   "outputs": [],
   "source": [
    "#train array\n",
    "x1 = []\n",
    "y1 = []\n",
    "path = 'Include/train/'\n",
    "for b in ['negative', 'positive']:\n",
    "    name_lst = os.listdir(path + b)\n",
    "    for img_name in name_lst:\n",
    "        img = cv2.imread(path + b + '/' + img_name)\n",
    "        img1 = cv2.cvtColor(img,cv2.COLOR_BGR2RGB)\n",
    "        x1.append(img1)\n",
    "        y1.append(b)\n",
    "        \n",
    "X_train = np.array(x1)\n",
    "Y_train = np.array(y1)"
   ]
  },
  {
   "cell_type": "code",
   "execution_count": 3,
   "metadata": {},
   "outputs": [],
   "source": [
    "#test array (already classified)\n",
    "x2 = []\n",
    "y2 = []\n",
    "path = 'Include/test/'\n",
    "for b in ['negative', 'positive']:\n",
    "    name_lst = os.listdir(path + b)\n",
    "    for img_name in name_lst:\n",
    "        img = cv2.imread(path + b + '/' + img_name)\n",
    "        img1 = cv2.cvtColor(img,cv2.COLOR_BGR2RGB)\n",
    "        x2.append(img1)\n",
    "        y2.append(b)\n",
    "        \n",
    "X_test = np.array(x2)\n",
    "Y_test = np.array(y2)"
   ]
  },
  {
   "cell_type": "code",
   "execution_count": null,
   "metadata": {
    "scrolled": true
   },
   "outputs": [],
   "source": [
    "# split train and test in array\n",
    "# X_train, X_test, Y_train, Y_test = train_test_split(X, Y, test_size = 0.2, random_state = 10)"
   ]
  },
  {
   "cell_type": "code",
   "execution_count": 4,
   "metadata": {},
   "outputs": [],
   "source": [
    "negative_train = X_train[np.where(Y_train == 'negative')]\n",
    "positive_train = X_train[np.where(Y_train == 'positive')]\n",
    "negative_test = X_test[np.where(Y_test == 'negative')]\n",
    "positive_test = X_test[np.where(Y_test == 'positive')]"
   ]
  },
  {
   "cell_type": "code",
   "execution_count": 5,
   "metadata": {},
   "outputs": [],
   "source": [
    "datagen = ImageDataGenerator(\n",
    "    rotation_range=20,\n",
    "    fill_mode='constant',\n",
    "    height_shift_range=0.1,\n",
    "    width_shift_range=0.1,\n",
    "    horizontal_flip=True,\n",
    "    vertical_flip=True,\n",
    "    shear_range=0.2)"
   ]
  },
  {
   "cell_type": "code",
   "execution_count": 6,
   "metadata": {},
   "outputs": [],
   "source": [
    "# train generator\n",
    "negative_train_generator = datagen.flow(negative_train,\n",
    "                                Y_train[np.where(Y_train == 'negative')],\n",
    "                                save_to_dir = 'Include/train/negative',\n",
    "                                batch_size = 1)\n",
    "positive_train_generator = datagen.flow(positive_train,\n",
    "                                Y_train[np.where(Y_train == 'positive')],\n",
    "                                save_to_dir = 'Include/train/positive',\n",
    "                                batch_size = 1)"
   ]
  },
  {
   "cell_type": "code",
   "execution_count": 11,
   "metadata": {},
   "outputs": [
    {
     "name": "stdout",
     "output_type": "stream",
     "text": [
      "188\n",
      "188\n"
     ]
    }
   ],
   "source": [
    "print(len(X_test))\n",
    "print(len(Y_test))"
   ]
  },
  {
   "cell_type": "code",
   "execution_count": 12,
   "metadata": {},
   "outputs": [],
   "source": [
    "# test generator\n",
    "negative_test_generator = datagen.flow(negative_test,\n",
    "                                Y_train[np.where(Y_test == 'negative')],\n",
    "                                save_to_dir = 'Include/test/negative',\n",
    "                                batch_size = 1)\n",
    "positive_test_generator = datagen.flow(positive_test,\n",
    "                                Y_train[np.where(Y_test == 'positive')],\n",
    "                                save_to_dir = 'Include/test/positive',\n",
    "                                batch_size = 1)"
   ]
  },
  {
   "cell_type": "code",
   "execution_count": 8,
   "metadata": {},
   "outputs": [
    {
     "name": "stdout",
     "output_type": "stream",
     "text": [
      "750\n",
      "750\n",
      "188\n"
     ]
    }
   ],
   "source": [
    "print(len(X_train))\n",
    "print(len(Y_train))\n",
    "print(len(X_test))"
   ]
  },
  {
   "cell_type": "code",
   "execution_count": 9,
   "metadata": {},
   "outputs": [],
   "source": [
    "# run train generator\n",
    "for i in range(len(negative_train)):\n",
    "    next(negative_train_generator)\n",
    "for i in range(len(positive_train)):\n",
    "    next(positive_train_generator)"
   ]
  },
  {
   "cell_type": "code",
   "execution_count": 13,
   "metadata": {},
   "outputs": [],
   "source": [
    "# run test generator\n",
    "for i in range(len(negative_test)):\n",
    "    next(negative_test_generator)\n",
    "for i in range(len(positive_test)):\n",
    "    next(positive_test_generator)"
   ]
  },
  {
   "cell_type": "code",
   "execution_count": 15,
   "metadata": {},
   "outputs": [],
   "source": [
    "# save X_train, Y_train\n",
    "x = []\n",
    "y = []\n",
    "\n",
    "path = 'Include/train/'\n",
    "for b in ['negative', 'positive']:\n",
    "    name_lst = os.listdir(path + b)\n",
    "    for img_name in name_lst:\n",
    "        img = cv2.imread(path + b + '/' + img_name)\n",
    "        img1 = cv2.cvtColor(img,cv2.COLOR_BGR2RGB)\n",
    "        x.append(img1)\n",
    "        y.append(b)\n",
    "        \n",
    "X = np.array(x)\n",
    "Y = np.array(y)\n",
    "\n",
    "np.save('X_train.npy', X)\n",
    "np.save('Y_train.npy', Y)"
   ]
  },
  {
   "cell_type": "code",
   "execution_count": 20,
   "metadata": {},
   "outputs": [],
   "source": [
    "# save X_test, Y_test\n",
    "v = []\n",
    "w = []\n",
    "\n",
    "path = 'Include/test/'\n",
    "for b in ['negative', 'positive']:\n",
    "    name_lst = os.listdir(path + b)\n",
    "    for img_name in name_lst:\n",
    "        img = cv2.imread(path + b + '/' + img_name)\n",
    "        img1 = cv2.cvtColor(img,cv2.COLOR_BGR2RGB)\n",
    "        v.append(img1)\n",
    "        w.append(b)\n",
    "        \n",
    "V = np.array(v)\n",
    "W = np.array(w)\n",
    "\n",
    "np.save('X_test.npy', V)\n",
    "np.save('Y_test.npy', W)"
   ]
  },
  {
   "cell_type": "code",
   "execution_count": 19,
   "metadata": {},
   "outputs": [],
   "source": [
    "# randomly choose 200 files from negative train dataset (equal to positive dataset)\n",
    "import random\n",
    "img_random_lst = random.sample(os.listdir('Include/train/negative'), 200)\n",
    "r = []\n",
    "rr = []\n",
    "\n",
    "for img_name in img_random_lst:\n",
    "    img = cv2.imread('Include/train/negative/' + img_name)\n",
    "    img1 = cv2.cvtColor(img,cv2.COLOR_BGR2RGB)\n",
    "    r.append(img1)\n",
    "    rr.append('negative')\n",
    "\n",
    "positive_lst = os.listdir('Include/train/positive')\n",
    "for img_name in positive_lst:\n",
    "    img = cv2.imread('Include/train/positive/' + img_name)\n",
    "    img1 = cv2.cvtColor(img,cv2.COLOR_BGR2RGB)\n",
    "    r.append(img1)\n",
    "    rr.append('positive')\n",
    "\n",
    "R = np.array(r)\n",
    "RR = np.array(rr)\n",
    "\n",
    "np.save('X_train_2.npy', R)\n",
    "np.save('Y_train_2.npy', RR)"
   ]
  },
  {
   "cell_type": "code",
   "execution_count": null,
   "metadata": {},
   "outputs": [],
   "source": [
    "print(len(X))\n",
    "print(len(Y))\n",
    "print(len(negative_train))\n",
    "print(len(positive_train))\n"
   ]
  }
 ],
 "metadata": {
  "kernelspec": {
   "display_name": "Python 3",
   "language": "python",
   "name": "python3"
  },
  "language_info": {
   "codemirror_mode": {
    "name": "ipython",
    "version": 3
   },
   "file_extension": ".py",
   "mimetype": "text/x-python",
   "name": "python",
   "nbconvert_exporter": "python",
   "pygments_lexer": "ipython3",
   "version": "3.6.8"
  }
 },
 "nbformat": 4,
 "nbformat_minor": 2
}
