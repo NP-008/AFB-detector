{
 "cells": [
  {
   "cell_type": "code",
   "execution_count": 6,
   "metadata": {},
   "outputs": [],
   "source": [
    "import numpy as np\n",
    "from PIL import Image\n",
    "import io\n",
    "import pathlib\n",
    "import os\n",
    "import keyboard"
   ]
  },
  {
   "cell_type": "code",
   "execution_count": 4,
   "metadata": {},
   "outputs": [],
   "source": [
    "A = np.array([])\n",
    "B = np.array([])"
   ]
  },
  {
   "cell_type": "code",
   "execution_count": 5,
   "metadata": {},
   "outputs": [],
   "source": [
    "# define path to image file\n",
    "a = 0\n",
    "name_lst = os.listdir('Include/train/negative/')\n",
    "path = 'Include/train/negative/'"
   ]
  },
  {
   "cell_type": "code",
   "execution_count": null,
   "metadata": {},
   "outputs": [],
   "source": [
    "for img_name in name_lst:\n",
    "    with Image.open(path + img_name) as img_file:\n",
    "        img_file.show()\n",
    "        if keyboard.is_pressed('1'):\n",
    "            print(img_name + 'is negative.')\n",
    "            A.asarray(img_file)\n",
    "            B.asarray('negative')\n",
    "            img_file.close()\n",
    "        elif keyboard.is_pressed('2'):\n",
    "            print(img_file + 'is positive')\n",
    "            A.asarray(img_file)\n",
    "            B.asarray('positive')\n",
    "            img_file.close()\n",
    "        else:\n",
    "            print('ERROR')\n",
    "            img_file.close()\n",
    "            \n",
    "        \n",
    "np.save(A.npy, A)\n",
    "np.save(B.npy, B)"
   ]
  },
  {
   "cell_type": "code",
   "execution_count": 1,
   "metadata": {},
   "outputs": [
    {
     "data": {
      "text/plain": [
       "\"for img_name in name_lst:\\n    img_file = Image.open(path + img_name)\\n    img_file.show()\\n    if keyboard.is_pressed('1'):\\n        print(img_name + 'is negative.')\\n        A.asarray(img_file)\\n        B.asarray('negative')\\n        \\n    elif keyboard.is_pressed('2'):\\n        print(img_file + 'is positive')\\n        A.asarray(img_file)\\n        B.asarray('positive')\\n    else:\\n        pass\""
      ]
     },
     "execution_count": 1,
     "metadata": {},
     "output_type": "execute_result"
    }
   ],
   "source": [
    "\"\"\"for img_name in name_lst:\n",
    "    img_file = Image.open(path + img_name)\n",
    "    img_file.show()\n",
    "    if keyboard.is_pressed('1'):\n",
    "        print(img_name + 'is negative.')\n",
    "        A.asarray(img_file)\n",
    "        B.asarray('negative')\n",
    "        \n",
    "    elif keyboard.is_pressed('2'):\n",
    "        print(img_file + 'is positive')\n",
    "        A.asarray(img_file)\n",
    "        B.asarray('positive')\n",
    "    else:\n",
    "        pass\"\"\""
   ]
  },
  {
   "cell_type": "code",
   "execution_count": null,
   "metadata": {},
   "outputs": [],
   "source": [
    "while True:\n",
    "    try:\n",
    "        print('press a key')\n",
    "        if keyboard.is_pressed(1):\n",
    "            print('correct')\n",
    "        elif keyboard.is_pressed(2):\n",
    "            print('DETECTED')\n",
    "    except:\n",
    "        break"
   ]
  }
 ],
 "metadata": {
  "kernelspec": {
   "display_name": "Python 3",
   "language": "python",
   "name": "python3"
  },
  "language_info": {
   "codemirror_mode": {
    "name": "ipython",
    "version": 3
   },
   "file_extension": ".py",
   "mimetype": "text/x-python",
   "name": "python",
   "nbconvert_exporter": "python",
   "pygments_lexer": "ipython3",
   "version": "3.6.5"
  }
 },
 "nbformat": 4,
 "nbformat_minor": 2
}
